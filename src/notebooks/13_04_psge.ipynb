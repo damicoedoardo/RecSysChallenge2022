{
 "cells": [
  {
   "cell_type": "code",
   "execution_count": 1,
   "metadata": {},
   "outputs": [],
   "source": [
    "from src.data_reader import DataReader\n",
    "from src.constant import *\n",
    "import matplotlib.pyplot as plt\n",
    "import numpy as np\n",
    "from src.datasets.dataset import Dataset\n",
    "from src.models.itemknn.itemknn import ItemKNN\n",
    "from src.models.ease.ease import EASE\n",
    "from src.models.psge.psge import PSGE\n",
    "import pandas as pd\n",
    "from src.evaluation import compute_mrr\n"
   ]
  },
  {
   "cell_type": "code",
   "execution_count": 2,
   "metadata": {},
   "outputs": [],
   "source": [
    "dataset = Dataset()"
   ]
  },
  {
   "cell_type": "code",
   "execution_count": 3,
   "metadata": {},
   "outputs": [],
   "source": [
    "split_dict = dataset.get_split()\n",
    "train, train_label = split_dict[TRAIN]\n",
    "val, val_label = split_dict[VAL]"
   ]
  },
  {
   "cell_type": "code",
   "execution_count": 4,
   "metadata": {},
   "outputs": [],
   "source": [
    "model = PSGE(dataset, time_weight=None, k=128)"
   ]
  },
  {
   "cell_type": "code",
   "execution_count": 5,
   "metadata": {},
   "outputs": [
    {
     "name": "stderr",
     "output_type": "stream",
     "text": [
      "/raid/home/edoardo/GitProjects/RecSysChallenge2022/src/models/psge/psge.py:43: RuntimeWarning: divide by zero encountered in power\n",
      "  d_item_inv = np.power(item_degree, -self.alpha).flatten()\n"
     ]
    },
    {
     "name": "stdout",
     "output_type": "stream",
     "text": [
      "Computing eigendecomposition can take time...\n",
      "Done!\n"
     ]
    }
   ],
   "source": [
    "model.compute_similarity_matrix(train)"
   ]
  },
  {
   "cell_type": "code",
   "execution_count": 6,
   "metadata": {},
   "outputs": [],
   "source": [
    "recs = model.recommend(\n",
    "    interactions=val,\n",
    "    remove_seen=True,\n",
    "    cutoff=100,\n",
    "    leaderboard=False\n",
    ")"
   ]
  },
  {
   "cell_type": "code",
   "execution_count": 7,
   "metadata": {},
   "outputs": [
    {
     "name": "stdout",
     "output_type": "stream",
     "text": [
      "MRR: 0.01789994953634686\n"
     ]
    },
    {
     "data": {
      "text/plain": [
       "0.01789994953634686"
      ]
     },
     "execution_count": 7,
     "metadata": {},
     "output_type": "execute_result"
    }
   ],
   "source": [
    "compute_mrr(recs, val_label)"
   ]
  },
  {
   "cell_type": "code",
   "execution_count": null,
   "metadata": {},
   "outputs": [],
   "source": []
  }
 ],
 "metadata": {
  "interpreter": {
   "hash": "7c3c183c6e04ae4d2393ea2f09069167a37db434d2fc961fc183b2481fc93012"
  },
  "kernelspec": {
   "display_name": "Python 3.9.7 64-bit ('.venv': poetry)",
   "language": "python",
   "name": "python3"
  },
  "language_info": {
   "codemirror_mode": {
    "name": "ipython",
    "version": 3
   },
   "file_extension": ".py",
   "mimetype": "text/x-python",
   "name": "python",
   "nbconvert_exporter": "python",
   "pygments_lexer": "ipython3",
   "version": "3.9.7"
  },
  "orig_nbformat": 4
 },
 "nbformat": 4,
 "nbformat_minor": 2
}
