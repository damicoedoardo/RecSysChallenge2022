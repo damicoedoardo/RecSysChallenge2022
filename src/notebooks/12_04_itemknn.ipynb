{
 "cells": [
  {
   "cell_type": "code",
   "execution_count": 21,
   "metadata": {},
   "outputs": [],
   "source": [
    "from src.data_reader import DataReader\n",
    "from src.constant import *\n",
    "import matplotlib.pyplot as plt\n",
    "import numpy as np\n",
    "from src.datasets.dataset import Dataset\n",
    "from src.models.itemknn import ItemKNN\n",
    "import pandas as pd"
   ]
  },
  {
   "cell_type": "code",
   "execution_count": 2,
   "metadata": {},
   "outputs": [],
   "source": [
    "dataset = Dataset()"
   ]
  },
  {
   "cell_type": "code",
   "execution_count": 3,
   "metadata": {},
   "outputs": [],
   "source": [
    "split_dict = dataset.get_split()"
   ]
  },
  {
   "cell_type": "code",
   "execution_count": 4,
   "metadata": {},
   "outputs": [],
   "source": [
    "train, train_label = split_dict[TRAIN]"
   ]
  },
  {
   "cell_type": "code",
   "execution_count": 14,
   "metadata": {},
   "outputs": [],
   "source": [
    "val, val_label = split_dict[VAL]"
   ]
  },
  {
   "cell_type": "code",
   "execution_count": 9,
   "metadata": {},
   "outputs": [],
   "source": [
    "lead_data = dataset.get_test_leaderboard_sessions()"
   ]
  },
  {
   "cell_type": "code",
   "execution_count": 5,
   "metadata": {},
   "outputs": [],
   "source": [
    "model = ItemKNN(dataset, topk=1000)"
   ]
  },
  {
   "cell_type": "code",
   "execution_count": 6,
   "metadata": {},
   "outputs": [
    {
     "name": "stderr",
     "output_type": "stream",
     "text": [
      "Done: 100%|██████████| 23691/23691 [00:00<00:00, 31890.66it/s]\n"
     ]
    }
   ],
   "source": [
    "model.compute_similarity_matrix(train)"
   ]
  },
  {
   "cell_type": "code",
   "execution_count": 15,
   "metadata": {},
   "outputs": [
    {
     "name": "stderr",
     "output_type": "stream",
     "text": [
      "100%|██████████| 1/1 [00:46<00:00, 46.85s/it]\n"
     ]
    }
   ],
   "source": [
    "recs = model.recommend(\n",
    "    interactions=val,\n",
    "    remove_seen=True,\n",
    "    cutoff=100,\n",
    ")"
   ]
  },
  {
   "cell_type": "code",
   "execution_count": 16,
   "metadata": {},
   "outputs": [
    {
     "data": {
      "text/html": [
       "<div>\n",
       "<style scoped>\n",
       "    .dataframe tbody tr th:only-of-type {\n",
       "        vertical-align: middle;\n",
       "    }\n",
       "\n",
       "    .dataframe tbody tr th {\n",
       "        vertical-align: top;\n",
       "    }\n",
       "\n",
       "    .dataframe thead th {\n",
       "        text-align: right;\n",
       "    }\n",
       "</style>\n",
       "<table border=\"1\" class=\"dataframe\">\n",
       "  <thead>\n",
       "    <tr style=\"text-align: right;\">\n",
       "      <th></th>\n",
       "      <th>session_id</th>\n",
       "      <th>item_id</th>\n",
       "      <th>score</th>\n",
       "      <th>rank</th>\n",
       "    </tr>\n",
       "  </thead>\n",
       "  <tbody>\n",
       "    <tr>\n",
       "      <th>0</th>\n",
       "      <td>107</td>\n",
       "      <td>6258</td>\n",
       "      <td>0.026263</td>\n",
       "      <td>1</td>\n",
       "    </tr>\n",
       "    <tr>\n",
       "      <th>1</th>\n",
       "      <td>107</td>\n",
       "      <td>17928</td>\n",
       "      <td>0.021998</td>\n",
       "      <td>2</td>\n",
       "    </tr>\n",
       "    <tr>\n",
       "      <th>2</th>\n",
       "      <td>107</td>\n",
       "      <td>17787</td>\n",
       "      <td>0.021563</td>\n",
       "      <td>3</td>\n",
       "    </tr>\n",
       "    <tr>\n",
       "      <th>3</th>\n",
       "      <td>107</td>\n",
       "      <td>12940</td>\n",
       "      <td>0.019449</td>\n",
       "      <td>4</td>\n",
       "    </tr>\n",
       "    <tr>\n",
       "      <th>4</th>\n",
       "      <td>107</td>\n",
       "      <td>14480</td>\n",
       "      <td>0.019189</td>\n",
       "      <td>5</td>\n",
       "    </tr>\n",
       "    <tr>\n",
       "      <th>...</th>\n",
       "      <td>...</td>\n",
       "      <td>...</td>\n",
       "      <td>...</td>\n",
       "      <td>...</td>\n",
       "    </tr>\n",
       "    <tr>\n",
       "      <th>9999995</th>\n",
       "      <td>4440001</td>\n",
       "      <td>19161</td>\n",
       "      <td>0.029202</td>\n",
       "      <td>96</td>\n",
       "    </tr>\n",
       "    <tr>\n",
       "      <th>9999996</th>\n",
       "      <td>4440001</td>\n",
       "      <td>16935</td>\n",
       "      <td>0.029180</td>\n",
       "      <td>97</td>\n",
       "    </tr>\n",
       "    <tr>\n",
       "      <th>9999997</th>\n",
       "      <td>4440001</td>\n",
       "      <td>15784</td>\n",
       "      <td>0.028889</td>\n",
       "      <td>98</td>\n",
       "    </tr>\n",
       "    <tr>\n",
       "      <th>9999998</th>\n",
       "      <td>4440001</td>\n",
       "      <td>19194</td>\n",
       "      <td>0.028785</td>\n",
       "      <td>99</td>\n",
       "    </tr>\n",
       "    <tr>\n",
       "      <th>9999999</th>\n",
       "      <td>4440001</td>\n",
       "      <td>3694</td>\n",
       "      <td>0.028761</td>\n",
       "      <td>100</td>\n",
       "    </tr>\n",
       "  </tbody>\n",
       "</table>\n",
       "<p>10000000 rows × 4 columns</p>\n",
       "</div>"
      ],
      "text/plain": [
       "         session_id  item_id     score  rank\n",
       "0               107     6258  0.026263     1\n",
       "1               107    17928  0.021998     2\n",
       "2               107    17787  0.021563     3\n",
       "3               107    12940  0.019449     4\n",
       "4               107    14480  0.019189     5\n",
       "...             ...      ...       ...   ...\n",
       "9999995     4440001    19161  0.029202    96\n",
       "9999996     4440001    16935  0.029180    97\n",
       "9999997     4440001    15784  0.028889    98\n",
       "9999998     4440001    19194  0.028785    99\n",
       "9999999     4440001     3694  0.028761   100\n",
       "\n",
       "[10000000 rows x 4 columns]"
      ]
     },
     "execution_count": 16,
     "metadata": {},
     "output_type": "execute_result"
    }
   ],
   "source": [
    "recs"
   ]
  },
  {
   "cell_type": "code",
   "execution_count": 17,
   "metadata": {},
   "outputs": [
    {
     "data": {
      "text/html": [
       "<div>\n",
       "<style scoped>\n",
       "    .dataframe tbody tr th:only-of-type {\n",
       "        vertical-align: middle;\n",
       "    }\n",
       "\n",
       "    .dataframe tbody tr th {\n",
       "        vertical-align: top;\n",
       "    }\n",
       "\n",
       "    .dataframe thead th {\n",
       "        text-align: right;\n",
       "    }\n",
       "</style>\n",
       "<table border=\"1\" class=\"dataframe\">\n",
       "  <thead>\n",
       "    <tr style=\"text-align: right;\">\n",
       "      <th></th>\n",
       "      <th>session_id</th>\n",
       "      <th>item_id</th>\n",
       "      <th>date</th>\n",
       "    </tr>\n",
       "  </thead>\n",
       "  <tbody>\n",
       "    <tr>\n",
       "      <th>0</th>\n",
       "      <td>107</td>\n",
       "      <td>3370</td>\n",
       "      <td>2020-01-15 06:07:23.177</td>\n",
       "    </tr>\n",
       "    <tr>\n",
       "      <th>1</th>\n",
       "      <td>108</td>\n",
       "      <td>15639</td>\n",
       "      <td>2020-06-06 17:25:15.508</td>\n",
       "    </tr>\n",
       "    <tr>\n",
       "      <th>2</th>\n",
       "      <td>124</td>\n",
       "      <td>3126</td>\n",
       "      <td>2020-05-18 11:04:15.420</td>\n",
       "    </tr>\n",
       "    <tr>\n",
       "      <th>3</th>\n",
       "      <td>171</td>\n",
       "      <td>11806</td>\n",
       "      <td>2020-12-18 01:12:30.945</td>\n",
       "    </tr>\n",
       "    <tr>\n",
       "      <th>4</th>\n",
       "      <td>324</td>\n",
       "      <td>22049</td>\n",
       "      <td>2020-05-25 15:40:17.987</td>\n",
       "    </tr>\n",
       "    <tr>\n",
       "      <th>...</th>\n",
       "      <td>...</td>\n",
       "      <td>...</td>\n",
       "      <td>...</td>\n",
       "    </tr>\n",
       "    <tr>\n",
       "      <th>99995</th>\n",
       "      <td>4439892</td>\n",
       "      <td>7623</td>\n",
       "      <td>2020-03-01 13:52:26.972</td>\n",
       "    </tr>\n",
       "    <tr>\n",
       "      <th>99996</th>\n",
       "      <td>4439953</td>\n",
       "      <td>2179</td>\n",
       "      <td>2021-04-02 11:31:29.357</td>\n",
       "    </tr>\n",
       "    <tr>\n",
       "      <th>99997</th>\n",
       "      <td>4439964</td>\n",
       "      <td>17216</td>\n",
       "      <td>2020-03-24 08:18:38.953</td>\n",
       "    </tr>\n",
       "    <tr>\n",
       "      <th>99998</th>\n",
       "      <td>4439986</td>\n",
       "      <td>2445</td>\n",
       "      <td>2021-05-13 11:56:37.464</td>\n",
       "    </tr>\n",
       "    <tr>\n",
       "      <th>99999</th>\n",
       "      <td>4440001</td>\n",
       "      <td>14028</td>\n",
       "      <td>2020-10-30 23:46:05.218</td>\n",
       "    </tr>\n",
       "  </tbody>\n",
       "</table>\n",
       "<p>100000 rows × 3 columns</p>\n",
       "</div>"
      ],
      "text/plain": [
       "       session_id  item_id                    date\n",
       "0             107     3370 2020-01-15 06:07:23.177\n",
       "1             108    15639 2020-06-06 17:25:15.508\n",
       "2             124     3126 2020-05-18 11:04:15.420\n",
       "3             171    11806 2020-12-18 01:12:30.945\n",
       "4             324    22049 2020-05-25 15:40:17.987\n",
       "...           ...      ...                     ...\n",
       "99995     4439892     7623 2020-03-01 13:52:26.972\n",
       "99996     4439953     2179 2021-04-02 11:31:29.357\n",
       "99997     4439964    17216 2020-03-24 08:18:38.953\n",
       "99998     4439986     2445 2021-05-13 11:56:37.464\n",
       "99999     4440001    14028 2020-10-30 23:46:05.218\n",
       "\n",
       "[100000 rows x 3 columns]"
      ]
     },
     "execution_count": 17,
     "metadata": {},
     "output_type": "execute_result"
    }
   ],
   "source": [
    "val_label"
   ]
  },
  {
   "cell_type": "code",
   "execution_count": 18,
   "metadata": {},
   "outputs": [],
   "source": [
    "recs = recs.set_index([SESS_ID, ITEM_ID])\n",
    "val = val_label.set_index([SESS_ID, ITEM_ID])"
   ]
  },
  {
   "cell_type": "code",
   "execution_count": 20,
   "metadata": {},
   "outputs": [],
   "source": [
    "recs = recs.reset_index()"
   ]
  },
  {
   "cell_type": "code",
   "execution_count": 25,
   "metadata": {},
   "outputs": [],
   "source": [
    "\n",
    "merged=pd.merge(recs, val, on=[SESS_ID, ITEM_ID], how=\"right\")"
   ]
  },
  {
   "cell_type": "code",
   "execution_count": 30,
   "metadata": {},
   "outputs": [],
   "source": [
    "merged[\"mrr\"] = 1/merged[\"rank\"]\n",
    "merged[\"mrr\"] = merged[\"mrr\"].fillna(0)"
   ]
  },
  {
   "cell_type": "code",
   "execution_count": 34,
   "metadata": {},
   "outputs": [
    {
     "data": {
      "text/plain": [
       "numpy.float64"
      ]
     },
     "execution_count": 34,
     "metadata": {},
     "output_type": "execute_result"
    }
   ],
   "source": [
    "type(merged[\"mrr\"].mean())"
   ]
  },
  {
   "cell_type": "code",
   "execution_count": 24,
   "metadata": {},
   "outputs": [
    {
     "data": {
      "text/html": [
       "<div>\n",
       "<style scoped>\n",
       "    .dataframe tbody tr th:only-of-type {\n",
       "        vertical-align: middle;\n",
       "    }\n",
       "\n",
       "    .dataframe tbody tr th {\n",
       "        vertical-align: top;\n",
       "    }\n",
       "\n",
       "    .dataframe thead th {\n",
       "        text-align: right;\n",
       "    }\n",
       "</style>\n",
       "<table border=\"1\" class=\"dataframe\">\n",
       "  <thead>\n",
       "    <tr style=\"text-align: right;\">\n",
       "      <th></th>\n",
       "      <th></th>\n",
       "      <th>date</th>\n",
       "    </tr>\n",
       "    <tr>\n",
       "      <th>session_id</th>\n",
       "      <th>item_id</th>\n",
       "      <th></th>\n",
       "    </tr>\n",
       "  </thead>\n",
       "  <tbody>\n",
       "    <tr>\n",
       "      <th>107</th>\n",
       "      <th>3370</th>\n",
       "      <td>2020-01-15 06:07:23.177</td>\n",
       "    </tr>\n",
       "    <tr>\n",
       "      <th>108</th>\n",
       "      <th>15639</th>\n",
       "      <td>2020-06-06 17:25:15.508</td>\n",
       "    </tr>\n",
       "    <tr>\n",
       "      <th>124</th>\n",
       "      <th>3126</th>\n",
       "      <td>2020-05-18 11:04:15.420</td>\n",
       "    </tr>\n",
       "    <tr>\n",
       "      <th>171</th>\n",
       "      <th>11806</th>\n",
       "      <td>2020-12-18 01:12:30.945</td>\n",
       "    </tr>\n",
       "    <tr>\n",
       "      <th>324</th>\n",
       "      <th>22049</th>\n",
       "      <td>2020-05-25 15:40:17.987</td>\n",
       "    </tr>\n",
       "    <tr>\n",
       "      <th>...</th>\n",
       "      <th>...</th>\n",
       "      <td>...</td>\n",
       "    </tr>\n",
       "    <tr>\n",
       "      <th>4439892</th>\n",
       "      <th>7623</th>\n",
       "      <td>2020-03-01 13:52:26.972</td>\n",
       "    </tr>\n",
       "    <tr>\n",
       "      <th>4439953</th>\n",
       "      <th>2179</th>\n",
       "      <td>2021-04-02 11:31:29.357</td>\n",
       "    </tr>\n",
       "    <tr>\n",
       "      <th>4439964</th>\n",
       "      <th>17216</th>\n",
       "      <td>2020-03-24 08:18:38.953</td>\n",
       "    </tr>\n",
       "    <tr>\n",
       "      <th>4439986</th>\n",
       "      <th>2445</th>\n",
       "      <td>2021-05-13 11:56:37.464</td>\n",
       "    </tr>\n",
       "    <tr>\n",
       "      <th>4440001</th>\n",
       "      <th>14028</th>\n",
       "      <td>2020-10-30 23:46:05.218</td>\n",
       "    </tr>\n",
       "  </tbody>\n",
       "</table>\n",
       "<p>100000 rows × 1 columns</p>\n",
       "</div>"
      ],
      "text/plain": [
       "                                      date\n",
       "session_id item_id                        \n",
       "107        3370    2020-01-15 06:07:23.177\n",
       "108        15639   2020-06-06 17:25:15.508\n",
       "124        3126    2020-05-18 11:04:15.420\n",
       "171        11806   2020-12-18 01:12:30.945\n",
       "324        22049   2020-05-25 15:40:17.987\n",
       "...                                    ...\n",
       "4439892    7623    2020-03-01 13:52:26.972\n",
       "4439953    2179    2021-04-02 11:31:29.357\n",
       "4439964    17216   2020-03-24 08:18:38.953\n",
       "4439986    2445    2021-05-13 11:56:37.464\n",
       "4440001    14028   2020-10-30 23:46:05.218\n",
       "\n",
       "[100000 rows x 1 columns]"
      ]
     },
     "execution_count": 24,
     "metadata": {},
     "output_type": "execute_result"
    }
   ],
   "source": [
    "val"
   ]
  },
  {
   "cell_type": "code",
   "execution_count": null,
   "metadata": {},
   "outputs": [],
   "source": []
  }
 ],
 "metadata": {
  "interpreter": {
   "hash": "7c3c183c6e04ae4d2393ea2f09069167a37db434d2fc961fc183b2481fc93012"
  },
  "kernelspec": {
   "display_name": "Python 3.9.7 64-bit ('.venv': poetry)",
   "language": "python",
   "name": "python3"
  },
  "language_info": {
   "codemirror_mode": {
    "name": "ipython",
    "version": 3
   },
   "file_extension": ".py",
   "mimetype": "text/x-python",
   "name": "python",
   "nbconvert_exporter": "python",
   "pygments_lexer": "ipython3",
   "version": "3.9.7"
  },
  "orig_nbformat": 4
 },
 "nbformat": 4,
 "nbformat_minor": 2
}
