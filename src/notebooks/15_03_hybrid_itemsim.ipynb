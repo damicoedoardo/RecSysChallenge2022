{
 "cells": [
  {
   "cell_type": "code",
   "execution_count": 1,
   "metadata": {},
   "outputs": [],
   "source": [
    "from src.data_reader import DataReader\n",
    "from src.constant import *\n",
    "import matplotlib.pyplot as plt\n",
    "import numpy as np\n",
    "from src.datasets.dataset import Dataset\n",
    "from src.models.itemknn.itemknn import ItemKNN\n",
    "from src.models.ease.ease import EASE\n",
    "from src.models.content_ease.content_ease import CEASE\n",
    "from src.models.cb_iknn.cb_iknn import CBItemKNN\n",
    "from src.models.hybrid_item_sim.hybrid_item_sim import HybridItemSimilarity\n",
    "import pandas as pd\n",
    "from src.evaluation import compute_mrr"
   ]
  },
  {
   "cell_type": "code",
   "execution_count": 2,
   "metadata": {},
   "outputs": [],
   "source": [
    "dataset = Dataset()"
   ]
  },
  {
   "cell_type": "code",
   "execution_count": 3,
   "metadata": {},
   "outputs": [],
   "source": [
    "split_dict = dataset.get_split()"
   ]
  },
  {
   "cell_type": "code",
   "execution_count": 4,
   "metadata": {},
   "outputs": [],
   "source": [
    "train, train_label = split_dict[TRAIN]"
   ]
  },
  {
   "cell_type": "code",
   "execution_count": 5,
   "metadata": {},
   "outputs": [],
   "source": [
    "val, val_label = split_dict[VAL]"
   ]
  },
  {
   "cell_type": "code",
   "execution_count": 6,
   "metadata": {},
   "outputs": [],
   "source": [
    "full_data = dataset.get_train_sessions()\n",
    "# concat purchases\n",
    "train_pur = pd.concat([full_data, train_label], axis=0)"
   ]
  },
  {
   "cell_type": "code",
   "execution_count": 7,
   "metadata": {},
   "outputs": [],
   "source": [
    "train_pur[\"last_buy\"] = train_pur.groupby(SESS_ID)[DATE].transform(max)\n",
    "train_pur[\"first_buy\"] = train_pur.groupby(SESS_ID)[DATE].transform(min)\n",
    "train_pur[\"time_score\"] = 1 / (\n",
    "    (\n",
    "        (train_pur[\"last_buy\"] - train_pur[DATE]).apply(\n",
    "            lambda x: x.total_seconds() / 3600\n",
    "        )\n",
    "    )\n",
    "    + 1\n",
    ")\n",
    "train_pur = train_pur[train_pur[\"time_score\"] >= 0.7]"
   ]
  },
  {
   "cell_type": "code",
   "execution_count": 8,
   "metadata": {},
   "outputs": [],
   "source": [
    "cease = CEASE(dataset, time_weight=None, l2=1e-1)\n",
    "ease = EASE(dataset, time_weight=None, l2=1e-1)\n"
   ]
  },
  {
   "cell_type": "code",
   "execution_count": 29,
   "metadata": {},
   "outputs": [
    {
     "name": "stdout",
     "output_type": "stream",
     "text": [
      "[0.3, 0.7]\n"
     ]
    }
   ],
   "source": [
    "hybrid_m = HybridItemSimilarity(dataset=dataset, model_list=[ease, cease], model_weight_list=[0.4, 0.6],\n",
    "                                normalization=None, normalization_axis=1, time_weight=50)"
   ]
  },
  {
   "cell_type": "code",
   "execution_count": 30,
   "metadata": {},
   "outputs": [
    {
     "name": "stdout",
     "output_type": "stream",
     "text": [
      "(23691, 23691)\n",
      "Computing inverse\n"
     ]
    }
   ],
   "source": [
    "hybrid_m.compute_similarity_matrix(train_pur)"
   ]
  },
  {
   "cell_type": "code",
   "execution_count": 31,
   "metadata": {},
   "outputs": [
    {
     "name": "stdout",
     "output_type": "stream",
     "text": [
      "Using Time Weight on Interaction matrix\n"
     ]
    }
   ],
   "source": [
    "recs = hybrid_m.recommend(\n",
    "    interactions=val,\n",
    "    remove_seen=True,\n",
    "    cutoff=100,\n",
    "    leaderboard=False\n",
    ")"
   ]
  },
  {
   "cell_type": "code",
   "execution_count": 32,
   "metadata": {},
   "outputs": [
    {
     "name": "stdout",
     "output_type": "stream",
     "text": [
      "MRR: 0.17904181682927253\n"
     ]
    },
    {
     "data": {
      "text/plain": [
       "0.17904181682927253"
      ]
     },
     "execution_count": 32,
     "metadata": {},
     "output_type": "execute_result"
    }
   ],
   "source": [
    "compute_mrr(recs, val_label)"
   ]
  },
  {
   "cell_type": "markdown",
   "metadata": {},
   "source": [
    "## SUBMISSION"
   ]
  },
  {
   "cell_type": "code",
   "execution_count": 39,
   "metadata": {},
   "outputs": [],
   "source": [
    "lead_data = dataset.get_test_leaderboard_sessions()\n",
    "final_data = dataset.get_test_final_sessions()\n",
    "full_data = dataset.get_train_sessions()\n",
    "full_label = dataset.get_train_purchases()\n",
    "concat_full_data = pd.concat([full_data, full_label, lead_data, final_data], axis=0)"
   ]
  },
  {
   "cell_type": "code",
   "execution_count": 40,
   "metadata": {},
   "outputs": [],
   "source": [
    "concat_full_data[\"last_buy\"] = concat_full_data.groupby(SESS_ID)[DATE].transform(max)\n",
    "concat_full_data[\"first_buy\"] = concat_full_data.groupby(SESS_ID)[DATE].transform(min)\n",
    "concat_full_data[\"time_score\"] = 1 / (\n",
    "    (\n",
    "        (concat_full_data[\"last_buy\"] - concat_full_data[DATE]).apply(\n",
    "            lambda x: x.total_seconds() / 3600\n",
    "        )\n",
    "    )\n",
    "    + 1\n",
    ")\n",
    "concat_full_data = concat_full_data[concat_full_data[\"time_score\"] >= 0.7]"
   ]
  },
  {
   "cell_type": "code",
   "execution_count": 41,
   "metadata": {},
   "outputs": [],
   "source": [
    "cease = CEASE(dataset, time_weight=None, l2=1e-1)\n",
    "ease = EASE(dataset, time_weight=None, l2=1e-1)\n"
   ]
  },
  {
   "cell_type": "code",
   "execution_count": 42,
   "metadata": {},
   "outputs": [
    {
     "name": "stdout",
     "output_type": "stream",
     "text": [
      "[0.4, 0.6]\n"
     ]
    }
   ],
   "source": [
    "hybrid_m = HybridItemSimilarity(dataset=dataset, model_list=[ease, cease], model_weight_list=[0.4, 0.6],\n",
    "                                normalization=None, normalization_axis=1, time_weight=50)"
   ]
  },
  {
   "cell_type": "code",
   "execution_count": 43,
   "metadata": {},
   "outputs": [
    {
     "name": "stdout",
     "output_type": "stream",
     "text": [
      "(23691, 23691)\n",
      "Computing inverse\n"
     ]
    }
   ],
   "source": [
    "hybrid_m.compute_similarity_matrix(concat_full_data)"
   ]
  },
  {
   "cell_type": "code",
   "execution_count": 44,
   "metadata": {},
   "outputs": [
    {
     "name": "stdout",
     "output_type": "stream",
     "text": [
      "Using Time Weight on Interaction matrix\n",
      "Considering white list items...\n"
     ]
    }
   ],
   "source": [
    "recs = hybrid_m.recommend(\n",
    "    interactions=lead_data,\n",
    "    remove_seen=True,\n",
    "    cutoff=100,\n",
    "    leaderboard=True\n",
    ")"
   ]
  },
  {
   "cell_type": "code",
   "execution_count": 45,
   "metadata": {},
   "outputs": [
    {
     "name": "stdout",
     "output_type": "stream",
     "text": [
      "Submission with name: 0.7_CEASE_tw created succesfully!\n"
     ]
    }
   ],
   "source": [
    "dataset.create_submission(recs, sub_name=\"0.7_CEASE_tw\")"
   ]
  },
  {
   "cell_type": "code",
   "execution_count": null,
   "metadata": {},
   "outputs": [],
   "source": []
  }
 ],
 "metadata": {
  "interpreter": {
   "hash": "7c3c183c6e04ae4d2393ea2f09069167a37db434d2fc961fc183b2481fc93012"
  },
  "kernelspec": {
   "display_name": "Python 3.9.7 64-bit ('.venv': poetry)",
   "language": "python",
   "name": "python3"
  },
  "language_info": {
   "codemirror_mode": {
    "name": "ipython",
    "version": 3
   },
   "file_extension": ".py",
   "mimetype": "text/x-python",
   "name": "python",
   "nbconvert_exporter": "python",
   "pygments_lexer": "ipython3",
   "version": "3.9.7"
  },
  "orig_nbformat": 4
 },
 "nbformat": 4,
 "nbformat_minor": 2
}
