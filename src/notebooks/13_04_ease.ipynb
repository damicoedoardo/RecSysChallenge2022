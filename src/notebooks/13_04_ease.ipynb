{
 "cells": [
  {
   "cell_type": "code",
   "execution_count": 14,
   "metadata": {},
   "outputs": [],
   "source": [
    "from src.data_reader import DataReader\n",
    "from src.constant import *\n",
    "import matplotlib.pyplot as plt\n",
    "import numpy as np\n",
    "from src.datasets.dataset import Dataset\n",
    "from src.models.itemknn.itemknn import ItemKNN\n",
    "from src.models.ease.ease import EASE\n",
    "import pandas as pd\n",
    "from src.evaluation import compute_mrr\n",
    "from src.utils.sparse_matrix import interactions_to_sparse_matrix"
   ]
  },
  {
   "cell_type": "code",
   "execution_count": 15,
   "metadata": {},
   "outputs": [],
   "source": [
    "dataset = Dataset()"
   ]
  },
  {
   "cell_type": "code",
   "execution_count": 16,
   "metadata": {},
   "outputs": [],
   "source": [
    "split_dict = dataset.get_split()\n",
    "train, train_label = split_dict[TRAIN]\n",
    "val, val_label = split_dict[VAL]\n",
    "test, test_label = split_dict[TEST]"
   ]
  },
  {
   "cell_type": "code",
   "execution_count": 38,
   "metadata": {},
   "outputs": [],
   "source": [
    "mask = (train.groupby(SESS_ID).count()[ITEM_ID]>=3).reset_index()"
   ]
  },
  {
   "cell_type": "code",
   "execution_count": 44,
   "metadata": {},
   "outputs": [],
   "source": [
    "filtered_sess = mask[mask[ITEM_ID]][SESS_ID].values"
   ]
  },
  {
   "cell_type": "code",
   "execution_count": 45,
   "metadata": {},
   "outputs": [
    {
     "data": {
      "text/plain": [
       "array([     18,      19,      24, ..., 4439990, 4439999, 4440001])"
      ]
     },
     "execution_count": 45,
     "metadata": {},
     "output_type": "execute_result"
    }
   ],
   "source": [
    "filtered_sess"
   ]
  },
  {
   "cell_type": "code",
   "execution_count": 17,
   "metadata": {},
   "outputs": [],
   "source": [
    "from datetime import datetime, timedelta\n",
    "max_date = train[DATE].max()\n",
    "train_limit_date = max_date - timedelta(days=120)"
   ]
  },
  {
   "cell_type": "code",
   "execution_count": 18,
   "metadata": {},
   "outputs": [
    {
     "data": {
      "text/plain": [
       "Timestamp('2020-12-31 23:41:03.992000')"
      ]
     },
     "execution_count": 18,
     "metadata": {},
     "output_type": "execute_result"
    }
   ],
   "source": [
    "train_limit_date"
   ]
  },
  {
   "cell_type": "code",
   "execution_count": 19,
   "metadata": {},
   "outputs": [],
   "source": [
    "filtered_train = train[train[DATE]>train_limit_date].copy()\n",
    "id_filtered_train = filtered_train[SESS_ID].unique()\n",
    "filtered_train_label = train_label[train_label[SESS_ID].isin(id_filtered_train)].copy()\n"
   ]
  },
  {
   "cell_type": "code",
   "execution_count": 46,
   "metadata": {},
   "outputs": [],
   "source": [
    "filtered_length_train = train[train[SESS_ID].isin(filtered_sess)]\n",
    "filtered_length_train_label = train_label[train_label[SESS_ID].isin(filtered_sess)]"
   ]
  },
  {
   "cell_type": "code",
   "execution_count": 47,
   "metadata": {},
   "outputs": [
    {
     "data": {
      "text/html": [
       "<div>\n",
       "<style scoped>\n",
       "    .dataframe tbody tr th:only-of-type {\n",
       "        vertical-align: middle;\n",
       "    }\n",
       "\n",
       "    .dataframe tbody tr th {\n",
       "        vertical-align: top;\n",
       "    }\n",
       "\n",
       "    .dataframe thead th {\n",
       "        text-align: right;\n",
       "    }\n",
       "</style>\n",
       "<table border=\"1\" class=\"dataframe\">\n",
       "  <thead>\n",
       "    <tr style=\"text-align: right;\">\n",
       "      <th></th>\n",
       "      <th>session_id</th>\n",
       "      <th>item_id</th>\n",
       "      <th>date</th>\n",
       "      <th>sample_weight</th>\n",
       "    </tr>\n",
       "  </thead>\n",
       "  <tbody>\n",
       "    <tr>\n",
       "      <th>3</th>\n",
       "      <td>18</td>\n",
       "      <td>15459</td>\n",
       "      <td>2020-08-26 19:18:30.833</td>\n",
       "      <td>1</td>\n",
       "    </tr>\n",
       "    <tr>\n",
       "      <th>4</th>\n",
       "      <td>18</td>\n",
       "      <td>2085</td>\n",
       "      <td>2020-08-26 19:16:31.211</td>\n",
       "      <td>1</td>\n",
       "    </tr>\n",
       "    <tr>\n",
       "      <th>5</th>\n",
       "      <td>18</td>\n",
       "      <td>3377</td>\n",
       "      <td>2020-08-26 19:15:47.232</td>\n",
       "      <td>1</td>\n",
       "    </tr>\n",
       "    <tr>\n",
       "      <th>6</th>\n",
       "      <td>19</td>\n",
       "      <td>21726</td>\n",
       "      <td>2020-11-02 16:31:18.543</td>\n",
       "      <td>1</td>\n",
       "    </tr>\n",
       "    <tr>\n",
       "      <th>7</th>\n",
       "      <td>19</td>\n",
       "      <td>5336</td>\n",
       "      <td>2020-11-02 16:34:33.794</td>\n",
       "      <td>1</td>\n",
       "    </tr>\n",
       "    <tr>\n",
       "      <th>...</th>\n",
       "      <td>...</td>\n",
       "      <td>...</td>\n",
       "      <td>...</td>\n",
       "      <td>...</td>\n",
       "    </tr>\n",
       "    <tr>\n",
       "      <th>4273672</th>\n",
       "      <td>4440001</td>\n",
       "      <td>17238</td>\n",
       "      <td>2020-10-30 23:37:20.658</td>\n",
       "      <td>1</td>\n",
       "    </tr>\n",
       "    <tr>\n",
       "      <th>4273673</th>\n",
       "      <td>4440001</td>\n",
       "      <td>11916</td>\n",
       "      <td>2020-10-30 23:31:56.607</td>\n",
       "      <td>1</td>\n",
       "    </tr>\n",
       "    <tr>\n",
       "      <th>4273674</th>\n",
       "      <td>4440001</td>\n",
       "      <td>12039</td>\n",
       "      <td>2020-10-30 23:36:17.934</td>\n",
       "      <td>1</td>\n",
       "    </tr>\n",
       "    <tr>\n",
       "      <th>4273675</th>\n",
       "      <td>4440001</td>\n",
       "      <td>23434</td>\n",
       "      <td>2020-10-30 23:39:55.186</td>\n",
       "      <td>1</td>\n",
       "    </tr>\n",
       "    <tr>\n",
       "      <th>4273676</th>\n",
       "      <td>4440001</td>\n",
       "      <td>249</td>\n",
       "      <td>2020-10-30 23:27:37.873</td>\n",
       "      <td>1</td>\n",
       "    </tr>\n",
       "  </tbody>\n",
       "</table>\n",
       "<p>3663251 rows × 4 columns</p>\n",
       "</div>"
      ],
      "text/plain": [
       "         session_id  item_id                    date  sample_weight\n",
       "3                18    15459 2020-08-26 19:18:30.833              1\n",
       "4                18     2085 2020-08-26 19:16:31.211              1\n",
       "5                18     3377 2020-08-26 19:15:47.232              1\n",
       "6                19    21726 2020-11-02 16:31:18.543              1\n",
       "7                19     5336 2020-11-02 16:34:33.794              1\n",
       "...             ...      ...                     ...            ...\n",
       "4273672     4440001    17238 2020-10-30 23:37:20.658              1\n",
       "4273673     4440001    11916 2020-10-30 23:31:56.607              1\n",
       "4273674     4440001    12039 2020-10-30 23:36:17.934              1\n",
       "4273675     4440001    23434 2020-10-30 23:39:55.186              1\n",
       "4273676     4440001      249 2020-10-30 23:27:37.873              1\n",
       "\n",
       "[3663251 rows x 4 columns]"
      ]
     },
     "execution_count": 47,
     "metadata": {},
     "output_type": "execute_result"
    }
   ],
   "source": [
    "filtered_length_train"
   ]
  },
  {
   "cell_type": "code",
   "execution_count": 20,
   "metadata": {},
   "outputs": [],
   "source": [
    "full_data = dataset.get_train_sessions()\n",
    "# we can not use that for the final submission\n",
    "lead_data = dataset.get_test_leaderboard_sessions()\n",
    "final_data = dataset.get_test_final_sessions()"
   ]
  },
  {
   "cell_type": "code",
   "execution_count": 48,
   "metadata": {},
   "outputs": [
    {
     "name": "stderr",
     "output_type": "stream",
     "text": [
      "/tmp/ipykernel_2646431/2297539540.py:7: SettingWithCopyWarning: \n",
      "A value is trying to be set on a copy of a slice from a DataFrame.\n",
      "Try using .loc[row_indexer,col_indexer] = value instead\n",
      "\n",
      "See the caveats in the documentation: https://pandas.pydata.org/pandas-docs/stable/user_guide/indexing.html#returning-a-view-versus-a-copy\n",
      "  filtered_length_train[\"sample_weight\"] = 1\n",
      "/tmp/ipykernel_2646431/2297539540.py:8: SettingWithCopyWarning: \n",
      "A value is trying to be set on a copy of a slice from a DataFrame.\n",
      "Try using .loc[row_indexer,col_indexer] = value instead\n",
      "\n",
      "See the caveats in the documentation: https://pandas.pydata.org/pandas-docs/stable/user_guide/indexing.html#returning-a-view-versus-a-copy\n",
      "  filtered_length_train_label[\"sample_weight\"] = 5\n"
     ]
    }
   ],
   "source": [
    "train[\"sample_weight\"] = 1\n",
    "train_label[\"sample_weight\"] = 5\n",
    "\n",
    "filtered_train[\"sample_weight\"] = 1\n",
    "filtered_train_label[\"sample_weight\"] = 5\n",
    "\n",
    "filtered_length_train[\"sample_weight\"] = 1\n",
    "filtered_length_train_label[\"sample_weight\"] = 5\n",
    "\n",
    "val[\"sample_weight\"] = 1\n",
    "val_label[\"sample_weight\"] = 5\n",
    "\n",
    "test[\"sample_weight\"] = 1\n",
    "test_label[\"sample_weight\"] = 5\n",
    "\n",
    "lead_data[\"sample_weight\"] = 1\n",
    "final_data[\"sample_weight\"] = 1"
   ]
  },
  {
   "cell_type": "code",
   "execution_count": 49,
   "metadata": {},
   "outputs": [],
   "source": [
    "train_pur = pd.concat([filtered_length_train, filtered_length_train_label], axis=0)"
   ]
  },
  {
   "cell_type": "code",
   "execution_count": 50,
   "metadata": {},
   "outputs": [],
   "source": [
    "model = EASE(dataset, time_weight=50, l2=1e-1)"
   ]
  },
  {
   "cell_type": "code",
   "execution_count": 51,
   "metadata": {},
   "outputs": [],
   "source": [
    "model.compute_similarity_matrix(train_pur)"
   ]
  },
  {
   "cell_type": "code",
   "execution_count": 52,
   "metadata": {},
   "outputs": [
    {
     "name": "stdout",
     "output_type": "stream",
     "text": [
      "Using Time Weight on Interaction matrix\n",
      "Considering white list items...\n"
     ]
    }
   ],
   "source": [
    "recs = model.recommend(\n",
    "    interactions=val,\n",
    "    remove_seen=True,\n",
    "    cutoff=100,\n",
    "    leaderboard=True\n",
    ")"
   ]
  },
  {
   "cell_type": "code",
   "execution_count": 53,
   "metadata": {},
   "outputs": [
    {
     "name": "stdout",
     "output_type": "stream",
     "text": [
      "MRR: 0.15455163411537248\n"
     ]
    },
    {
     "data": {
      "text/plain": [
       "0.15455163411537248"
      ]
     },
     "execution_count": 53,
     "metadata": {},
     "output_type": "execute_result"
    }
   ],
   "source": [
    "compute_mrr(recs, val_label)"
   ]
  },
  {
   "cell_type": "markdown",
   "metadata": {},
   "source": [
    "# Create Submission"
   ]
  },
  {
   "cell_type": "code",
   "execution_count": 28,
   "metadata": {},
   "outputs": [],
   "source": [
    "concat_full_data = pd.concat([filtered_train, filtered_train_label, val, val_label, test, test_label], axis=0)\n",
    "#concat_full_data = pd.concat([train, train_label, val, val_label, test, test_label], axis=0)"
   ]
  },
  {
   "cell_type": "code",
   "execution_count": 29,
   "metadata": {},
   "outputs": [],
   "source": [
    "model = EASE(dataset, time_weight=50, l2=1e-1)"
   ]
  },
  {
   "cell_type": "code",
   "execution_count": 30,
   "metadata": {},
   "outputs": [],
   "source": [
    "model.compute_similarity_matrix(concat_full_data)"
   ]
  },
  {
   "cell_type": "code",
   "execution_count": 31,
   "metadata": {},
   "outputs": [
    {
     "name": "stdout",
     "output_type": "stream",
     "text": [
      "Using Time Weight on Interaction matrix\n",
      "Considering white list items...\n"
     ]
    }
   ],
   "source": [
    "recs = model.recommend(\n",
    "    interactions=lead_data,\n",
    "    remove_seen=True,\n",
    "    cutoff=100,\n",
    "    leaderboard=True\n",
    ")"
   ]
  },
  {
   "cell_type": "code",
   "execution_count": 32,
   "metadata": {},
   "outputs": [
    {
     "name": "stdout",
     "output_type": "stream",
     "text": [
      "Submission with name: Ease_3m created succesfully!\n"
     ]
    }
   ],
   "source": [
    "dataset.create_submission(recs, sub_name=\"Ease_3m\")"
   ]
  },
  {
   "cell_type": "code",
   "execution_count": null,
   "metadata": {},
   "outputs": [],
   "source": []
  }
 ],
 "metadata": {
  "interpreter": {
   "hash": "7c3c183c6e04ae4d2393ea2f09069167a37db434d2fc961fc183b2481fc93012"
  },
  "kernelspec": {
   "display_name": "Python 3.9.7 64-bit ('.venv': poetry)",
   "language": "python",
   "name": "python3"
  },
  "language_info": {
   "codemirror_mode": {
    "name": "ipython",
    "version": 3
   },
   "file_extension": ".py",
   "mimetype": "text/x-python",
   "name": "python",
   "nbconvert_exporter": "python",
   "pygments_lexer": "ipython3",
   "version": "3.9.7"
  },
  "orig_nbformat": 4
 },
 "nbformat": 4,
 "nbformat_minor": 2
}
