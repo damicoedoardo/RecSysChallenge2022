{
 "cells": [
  {
   "cell_type": "code",
   "execution_count": 1,
   "metadata": {},
   "outputs": [],
   "source": [
    "from src.data_reader import DataReader\n",
    "from src.constant import *\n",
    "import matplotlib.pyplot as plt\n",
    "import numpy as np\n",
    "from src.datasets.dataset import Dataset\n",
    "from src.models.itemknn.itemknn import ItemKNN\n",
    "from src.models.ease.ease import EASE\n",
    "import pandas as pd\n",
    "from src.evaluation import compute_mrr\n",
    "from src.utils.sparse_matrix import interactions_to_sparse_matrix"
   ]
  },
  {
   "cell_type": "code",
   "execution_count": 2,
   "metadata": {},
   "outputs": [],
   "source": [
    "dataset = Dataset()"
   ]
  },
  {
   "cell_type": "code",
   "execution_count": 4,
   "metadata": {},
   "outputs": [],
   "source": [
    "split_dict = dataset.get_split()\n",
    "train, train_label = split_dict[TRAIN]\n",
    "val, val_label = split_dict[VAL]\n",
    "test, test_label = split_dict[TEST]\n",
    "\n",
    "val_test = pd.concat([val, test])\n",
    "val_test_label = pd.concat([val_label, test_label])"
   ]
  },
  {
   "cell_type": "code",
   "execution_count": 6,
   "metadata": {},
   "outputs": [],
   "source": [
    "from datetime import datetime, timedelta\n",
    "max_date = train[DATE].max()\n",
    "train_limit_date = max_date - timedelta(days=150)\n",
    "filtered_train = train[train[DATE] > train_limit_date].copy()\n",
    "id_filtered_train = filtered_train[SESS_ID].unique()\n",
    "\n",
    "final_train_data = train[train[SESS_ID].isin(id_filtered_train)]\n",
    "final_train_label = train_label[train_label[SESS_ID].isin(id_filtered_train)]"
   ]
  },
  {
   "cell_type": "code",
   "execution_count": 7,
   "metadata": {},
   "outputs": [],
   "source": [
    "full_data = dataset.get_train_sessions()\n",
    "# we can not use that for the final submission\n",
    "lead_data = dataset.get_test_leaderboard_sessions()\n",
    "final_data = dataset.get_test_final_sessions()"
   ]
  },
  {
   "cell_type": "code",
   "execution_count": 8,
   "metadata": {},
   "outputs": [
    {
     "name": "stderr",
     "output_type": "stream",
     "text": [
      "/tmp/ipykernel_1000532/3772025307.py:4: SettingWithCopyWarning: \n",
      "A value is trying to be set on a copy of a slice from a DataFrame.\n",
      "Try using .loc[row_indexer,col_indexer] = value instead\n",
      "\n",
      "See the caveats in the documentation: https://pandas.pydata.org/pandas-docs/stable/user_guide/indexing.html#returning-a-view-versus-a-copy\n",
      "  final_train_data[\"sample_weight\"] = 1\n",
      "/tmp/ipykernel_1000532/3772025307.py:5: SettingWithCopyWarning: \n",
      "A value is trying to be set on a copy of a slice from a DataFrame.\n",
      "Try using .loc[row_indexer,col_indexer] = value instead\n",
      "\n",
      "See the caveats in the documentation: https://pandas.pydata.org/pandas-docs/stable/user_guide/indexing.html#returning-a-view-versus-a-copy\n",
      "  final_train_label[\"sample_weight\"] = 5\n"
     ]
    }
   ],
   "source": [
    "train[\"sample_weight\"] = 1\n",
    "train_label[\"sample_weight\"] = 5\n",
    "\n",
    "final_train_data[\"sample_weight\"] = 1\n",
    "final_train_label[\"sample_weight\"] = 5\n",
    "\n",
    "val[\"sample_weight\"] = 1\n",
    "val_label[\"sample_weight\"] = 5\n",
    "\n",
    "test[\"sample_weight\"] = 1\n",
    "test_label[\"sample_weight\"] = 5\n",
    "\n",
    "lead_data[\"sample_weight\"] = 1\n",
    "final_data[\"sample_weight\"] = 1"
   ]
  },
  {
   "cell_type": "code",
   "execution_count": 9,
   "metadata": {},
   "outputs": [],
   "source": [
    "train_pur = pd.concat([final_train_data, final_train_label], axis=0)"
   ]
  },
  {
   "cell_type": "code",
   "execution_count": 10,
   "metadata": {},
   "outputs": [],
   "source": [
    "model = EASE(dataset, time_weight=50, l2=1e-1)"
   ]
  },
  {
   "cell_type": "code",
   "execution_count": 11,
   "metadata": {},
   "outputs": [],
   "source": [
    "model.compute_similarity_matrix(train_pur)"
   ]
  },
  {
   "cell_type": "code",
   "execution_count": 12,
   "metadata": {},
   "outputs": [
    {
     "name": "stdout",
     "output_type": "stream",
     "text": [
      "Using Time Weight on Interaction matrix\n",
      "Considering white list items...\n"
     ]
    }
   ],
   "source": [
    "recs = model.recommend(\n",
    "    interactions=val_test,\n",
    "    remove_seen=True,\n",
    "    cutoff=100,\n",
    "    leaderboard=False\n",
    ")"
   ]
  },
  {
   "cell_type": "code",
   "execution_count": 13,
   "metadata": {},
   "outputs": [
    {
     "name": "stdout",
     "output_type": "stream",
     "text": [
      "MRR: 0.16685476105083377\n"
     ]
    },
    {
     "data": {
      "text/plain": [
       "0.16685476105083377"
      ]
     },
     "execution_count": 13,
     "metadata": {},
     "output_type": "execute_result"
    }
   ],
   "source": [
    "compute_mrr(recs, val_test_label)"
   ]
  },
  {
   "cell_type": "code",
   "execution_count": 14,
   "metadata": {},
   "outputs": [
    {
     "data": {
      "text/html": [
       "<div>\n",
       "<style scoped>\n",
       "    .dataframe tbody tr th:only-of-type {\n",
       "        vertical-align: middle;\n",
       "    }\n",
       "\n",
       "    .dataframe tbody tr th {\n",
       "        vertical-align: top;\n",
       "    }\n",
       "\n",
       "    .dataframe thead th {\n",
       "        text-align: right;\n",
       "    }\n",
       "</style>\n",
       "<table border=\"1\" class=\"dataframe\">\n",
       "  <thead>\n",
       "    <tr style=\"text-align: right;\">\n",
       "      <th></th>\n",
       "      <th>session_id</th>\n",
       "      <th>item_id</th>\n",
       "      <th>score</th>\n",
       "      <th>rank</th>\n",
       "    </tr>\n",
       "  </thead>\n",
       "  <tbody>\n",
       "    <tr>\n",
       "      <th>0</th>\n",
       "      <td>115</td>\n",
       "      <td>7392</td>\n",
       "      <td>0.076908</td>\n",
       "      <td>1</td>\n",
       "    </tr>\n",
       "    <tr>\n",
       "      <th>1</th>\n",
       "      <td>115</td>\n",
       "      <td>10592</td>\n",
       "      <td>0.028550</td>\n",
       "      <td>2</td>\n",
       "    </tr>\n",
       "    <tr>\n",
       "      <th>2</th>\n",
       "      <td>115</td>\n",
       "      <td>10531</td>\n",
       "      <td>0.026369</td>\n",
       "      <td>3</td>\n",
       "    </tr>\n",
       "    <tr>\n",
       "      <th>3</th>\n",
       "      <td>115</td>\n",
       "      <td>12390</td>\n",
       "      <td>0.022898</td>\n",
       "      <td>4</td>\n",
       "    </tr>\n",
       "    <tr>\n",
       "      <th>4</th>\n",
       "      <td>115</td>\n",
       "      <td>4135</td>\n",
       "      <td>0.020975</td>\n",
       "      <td>5</td>\n",
       "    </tr>\n",
       "    <tr>\n",
       "      <th>...</th>\n",
       "      <td>...</td>\n",
       "      <td>...</td>\n",
       "      <td>...</td>\n",
       "      <td>...</td>\n",
       "    </tr>\n",
       "    <tr>\n",
       "      <th>8161995</th>\n",
       "      <td>4439949</td>\n",
       "      <td>4742</td>\n",
       "      <td>0.001568</td>\n",
       "      <td>96</td>\n",
       "    </tr>\n",
       "    <tr>\n",
       "      <th>8161996</th>\n",
       "      <td>4439949</td>\n",
       "      <td>21143</td>\n",
       "      <td>0.001563</td>\n",
       "      <td>97</td>\n",
       "    </tr>\n",
       "    <tr>\n",
       "      <th>8161997</th>\n",
       "      <td>4439949</td>\n",
       "      <td>6511</td>\n",
       "      <td>0.001560</td>\n",
       "      <td>98</td>\n",
       "    </tr>\n",
       "    <tr>\n",
       "      <th>8161998</th>\n",
       "      <td>4439949</td>\n",
       "      <td>23279</td>\n",
       "      <td>0.001559</td>\n",
       "      <td>99</td>\n",
       "    </tr>\n",
       "    <tr>\n",
       "      <th>8161999</th>\n",
       "      <td>4439949</td>\n",
       "      <td>2875</td>\n",
       "      <td>0.001544</td>\n",
       "      <td>100</td>\n",
       "    </tr>\n",
       "  </tbody>\n",
       "</table>\n",
       "<p>8162000 rows × 4 columns</p>\n",
       "</div>"
      ],
      "text/plain": [
       "         session_id  item_id     score  rank\n",
       "0               115     7392  0.076908     1\n",
       "1               115    10592  0.028550     2\n",
       "2               115    10531  0.026369     3\n",
       "3               115    12390  0.022898     4\n",
       "4               115     4135  0.020975     5\n",
       "...             ...      ...       ...   ...\n",
       "8161995     4439949     4742  0.001568    96\n",
       "8161996     4439949    21143  0.001563    97\n",
       "8161997     4439949     6511  0.001560    98\n",
       "8161998     4439949    23279  0.001559    99\n",
       "8161999     4439949     2875  0.001544   100\n",
       "\n",
       "[8162000 rows x 4 columns]"
      ]
     },
     "execution_count": 14,
     "metadata": {},
     "output_type": "execute_result"
    }
   ],
   "source": [
    "recs"
   ]
  },
  {
   "cell_type": "code",
   "execution_count": 15,
   "metadata": {},
   "outputs": [],
   "source": [
    "recs.reset_index(drop=True).to_feather(dataset.get_train_recs_df_folder() / \"EASE_tw.feather\")"
   ]
  },
  {
   "cell_type": "markdown",
   "metadata": {},
   "source": [
    "# Create Submission"
   ]
  },
  {
   "cell_type": "code",
   "execution_count": 16,
   "metadata": {},
   "outputs": [],
   "source": [
    "concat_full_data = pd.concat([final_train_data, final_train_label, val, val_label, test, test_label], axis=0)\n",
    "#concat_full_data = pd.concat([train, train_label, val, val_label, test, test_label], axis=0)"
   ]
  },
  {
   "cell_type": "code",
   "execution_count": 17,
   "metadata": {},
   "outputs": [],
   "source": [
    "model = EASE(dataset, time_weight=50, l2=1e-1)"
   ]
  },
  {
   "cell_type": "code",
   "execution_count": 18,
   "metadata": {},
   "outputs": [],
   "source": [
    "model.compute_similarity_matrix(concat_full_data)"
   ]
  },
  {
   "cell_type": "code",
   "execution_count": 19,
   "metadata": {},
   "outputs": [
    {
     "name": "stdout",
     "output_type": "stream",
     "text": [
      "Using Time Weight on Interaction matrix\n",
      "Considering white list items...\n"
     ]
    }
   ],
   "source": [
    "recs_lead = model.recommend(\n",
    "    interactions=lead_data,\n",
    "    remove_seen=True,\n",
    "    cutoff=100,\n",
    "    leaderboard=True\n",
    ")"
   ]
  },
  {
   "cell_type": "code",
   "execution_count": 20,
   "metadata": {},
   "outputs": [],
   "source": [
    "recs_lead.reset_index(drop=True).to_feather(dataset.get_leaderboard_recs_df_folder() / \"EASE_tw.feather\")"
   ]
  },
  {
   "cell_type": "code",
   "execution_count": 21,
   "metadata": {},
   "outputs": [
    {
     "name": "stdout",
     "output_type": "stream",
     "text": [
      "Using Time Weight on Interaction matrix\n",
      "Considering white list items...\n"
     ]
    }
   ],
   "source": [
    "recs_final = model.recommend(\n",
    "    interactions=final_data,\n",
    "    remove_seen=True,\n",
    "    cutoff=100,\n",
    "    leaderboard=True\n",
    ")"
   ]
  },
  {
   "cell_type": "code",
   "execution_count": 22,
   "metadata": {},
   "outputs": [],
   "source": [
    "recs_final.reset_index(drop=True).to_feather(dataset.get_final_recs_df_folder() / \"EASE_tw.feather\")"
   ]
  },
  {
   "cell_type": "code",
   "execution_count": null,
   "metadata": {},
   "outputs": [],
   "source": []
  },
  {
   "cell_type": "code",
   "execution_count": 32,
   "metadata": {},
   "outputs": [
    {
     "name": "stdout",
     "output_type": "stream",
     "text": [
      "Submission with name: Ease_3m created succesfully!\n"
     ]
    }
   ],
   "source": [
    "dataset.create_submission(recs, sub_name=\"Ease_3m\")"
   ]
  },
  {
   "cell_type": "code",
   "execution_count": null,
   "metadata": {},
   "outputs": [],
   "source": []
  }
 ],
 "metadata": {
  "interpreter": {
   "hash": "7c3c183c6e04ae4d2393ea2f09069167a37db434d2fc961fc183b2481fc93012"
  },
  "kernelspec": {
   "display_name": "Python 3.9.7 64-bit ('.venv': poetry)",
   "language": "python",
   "name": "python3"
  },
  "language_info": {
   "codemirror_mode": {
    "name": "ipython",
    "version": 3
   },
   "file_extension": ".py",
   "mimetype": "text/x-python",
   "name": "python",
   "nbconvert_exporter": "python",
   "pygments_lexer": "ipython3",
   "version": "3.9.7"
  },
  "orig_nbformat": 4
 },
 "nbformat": 4,
 "nbformat_minor": 2
}
